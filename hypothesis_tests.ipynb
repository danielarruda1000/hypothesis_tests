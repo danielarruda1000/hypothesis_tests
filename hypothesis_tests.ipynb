{
  "nbformat": 4,
  "nbformat_minor": 0,
  "metadata": {
    "colab": {
      "name": "hypothesis_tests.ipynb",
      "provenance": [],
      "collapsed_sections": [],
      "authorship_tag": "ABX9TyPmZqVSGyQHl4HuV8eK3vS4",
      "include_colab_link": true
    },
    "kernelspec": {
      "name": "python3",
      "display_name": "Python 3"
    },
    "language_info": {
      "name": "python"
    }
  },
  "cells": [
    {
      "cell_type": "markdown",
      "metadata": {
        "id": "view-in-github",
        "colab_type": "text"
      },
      "source": [
        "<a href=\"https://colab.research.google.com/github/danielarruda1000/hypothesis_tests/blob/main/hypothesis_tests.ipynb\" target=\"_parent\"><img src=\"https://colab.research.google.com/assets/colab-badge.svg\" alt=\"Open In Colab\"/></a>"
      ]
    },
    {
      "cell_type": "markdown",
      "source": [
        "# Hypothesis test with python exemples!\n",
        "* Source article: https://machinelearningmastery.com/statistical-hypothesis-tests-in-python-cheat-sheet/"
      ],
      "metadata": {
        "id": "sb2jN9_0qrwG"
      }
    },
    {
      "cell_type": "markdown",
      "source": [
        "# Normality Tests"
      ],
      "metadata": {
        "id": "yp9MCCUQqdqE"
      }
    },
    {
      "cell_type": "markdown",
      "source": [
        "### Shapiro-Wilk Test\n",
        "* Evaluates a data sample and quantifes how likely it is that the data was drawn from a Gaussian distribuition"
      ],
      "metadata": {
        "id": "99VfEJ7etXkr"
      }
    },
    {
      "cell_type": "code",
      "source": [
        "from numpy.random import seed\n",
        "from numpy.random import randn, rand\n",
        "from scipy.stats import shapiro\n",
        "import matplotlib.pyplot as plt\n",
        "import seaborn as sns\n",
        "import warnings\n",
        "warnings.filterwarnings(\"ignore\")"
      ],
      "metadata": {
        "id": "bCD6o9VGtqbt"
      },
      "execution_count": 48,
      "outputs": []
    },
    {
      "cell_type": "code",
      "source": [
        "# Creating normal distribution dataset\n",
        "seed(123)\n",
        "data_normal = 2 * randn(100) + 10\n",
        "stat, p = shapiro(data_normal)\n",
        "alpha = 0.05\n",
        "\n",
        "print('Statistics=%.3f, p=%.3f' % (stat, p))\n",
        "if p > alpha:\n",
        "  print('The data looks Gaussian (Fail to reject null hypothesis)')\n",
        "else:\n",
        "  print('The data doe not look Gaussian (Reject H0) ')\n",
        "\n",
        "sns.distplot(data_normal)\n",
        "plt.show()"
      ],
      "metadata": {
        "colab": {
          "base_uri": "https://localhost:8080/",
          "height": 300
        },
        "id": "5H0FY8x5sGXa",
        "outputId": "7d5862c6-3f67-4199-877f-df257ab0894f"
      },
      "execution_count": 53,
      "outputs": [
        {
          "output_type": "stream",
          "name": "stdout",
          "text": [
            "Statistics=0.984, p=0.275\n",
            "The data looks Gaussian (Fail to reject null hypothesis)\n"
          ]
        },
        {
          "output_type": "display_data",
          "data": {
            "text/plain": [
              "<Figure size 432x288 with 1 Axes>"
            ],
            "image/png": "[encoded data removed]"
          },
          "metadata": {
            "needs_background": "light"
          }
        }
      ]
    },
    {
      "cell_type": "markdown",
      "source": [
        "## D'Agostino's K^2 Test\n",
        "* Determine if the data distribution departs from the normal distribution. Calculates summary statistics namely Kurtosis and Skewness.\n",
        "* Kurtosis quantifiles how much of the distribution is in the tail\n",
        "* Skewness quantifiles how much a distribution is push left or right"
      ],
      "metadata": {
        "id": "ot0I3ECEwrGe"
      }
    },
    {
      "cell_type": "code",
      "source": [
        ""
      ],
      "metadata": {
        "id": "u5NCfRAH1XfP"
      },
      "execution_count": null,
      "outputs": []
    },
    {
      "cell_type": "markdown",
      "source": [
        "# Correlation Tests"
      ],
      "metadata": {
        "id": "Kgsk0WMjqgkv"
      }
    },
    {
      "cell_type": "code",
      "source": [
        ""
      ],
      "metadata": {
        "id": "ZAcP3BT7qh61"
      },
      "execution_count": null,
      "outputs": []
    },
    {
      "cell_type": "markdown",
      "source": [
        "# Stationary Tests"
      ],
      "metadata": {
        "id": "5otZNSc3qiV1"
      }
    },
    {
      "cell_type": "code",
      "source": [
        ""
      ],
      "metadata": {
        "id": "1kmlD1Sjqj6X"
      },
      "execution_count": null,
      "outputs": []
    },
    {
      "cell_type": "markdown",
      "source": [
        "# Parametric Statistical Hypothesis Tests"
      ],
      "metadata": {
        "id": "DARLwQX-qlOX"
      }
    },
    {
      "cell_type": "code",
      "source": [
        ""
      ],
      "metadata": {
        "id": "oLvTBhPLqm9l"
      },
      "execution_count": null,
      "outputs": []
    },
    {
      "cell_type": "markdown",
      "source": [
        "# Nonparametric Statistical Hypothesis Tests"
      ],
      "metadata": {
        "id": "ydwlMI_9qnVB"
      }
    },
    {
      "cell_type": "code",
      "source": [
        ""
      ],
      "metadata": {
        "id": "zMi9dS0Wqpqw"
      },
      "execution_count": null,
      "outputs": []
    }
  ]
}