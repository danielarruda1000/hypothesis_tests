{
  "nbformat": 4,
  "nbformat_minor": 0,
  "metadata": {
    "colab": {
      "name": "hypothesis_tests.ipynb",
      "provenance": [],
      "collapsed_sections": [],
      "authorship_tag": "ABX9TyMSiuSxtoxry508OhZTVPPo",
      "include_colab_link": true
    },
    "kernelspec": {
      "name": "python3",
      "display_name": "Python 3"
    },
    "language_info": {
      "name": "python"
    }
  },
  "cells": [
    {
      "cell_type": "markdown",
      "metadata": {
        "id": "view-in-github",
        "colab_type": "text"
      },
      "source": [
        "<a href=\"https://colab.research.google.com/github/danielarruda1000/hypothesis_tests/blob/main/hypothesis_tests.ipynb\" target=\"_parent\"><img src=\"https://colab.research.google.com/assets/colab-badge.svg\" alt=\"Open In Colab\"/></a>"
      ]
    },
    {
      "cell_type": "markdown",
      "source": [
        "# Hypothesis test with python exemples!\n",
        "* Source article: https://machinelearningmastery.com/statistical-hypothesis-tests-in-python-cheat-sheet/"
      ],
      "metadata": {
        "id": "sb2jN9_0qrwG"
      }
    },
    {
      "cell_type": "markdown",
      "source": [
        "# Normality Tests"
      ],
      "metadata": {
        "id": "yp9MCCUQqdqE"
      }
    },
    {
      "cell_type": "markdown",
      "source": [
        "### Shapiro-Wilk Test\n",
        "* Evaluates a data sample and quantifes how likely it is that the data was drawn from a Gaussian distribuition"
      ],
      "metadata": {
        "id": "99VfEJ7etXkr"
      }
    },
    {
      "cell_type": "code",
      "source": [
        "from numpy.random import seed\n",
        "from numpy.random import randn, rand\n",
        "from scipy.stats import shapiro\n",
        "import matplotlib.pyplot as plt\n",
        "import seaborn as sns\n",
        "import warnings\n",
        "warnings.filterwarnings(\"ignore\")"
      ],
      "metadata": {
        "id": "bCD6o9VGtqbt"
      },
      "execution_count": 7,
      "outputs": []
    },
    {
      "cell_type": "code",
      "source": [
        "# Creating normal distribution dataset\n",
        "seed(123)\n",
        "data_normal = 2 * randn(100) + 10\n",
        "stat, p = shapiro(data_normal)\n",
        "alpha = 0.05\n",
        "\n",
        "print('Statistics=%.3f, p=%.3f' % (stat, p))\n",
        "if p > alpha:\n",
        "  print('The data looks Gaussian (Fail to reject null hypothesis)')\n",
        "else:\n",
        "  print('The data doe not look Gaussian (Reject H0) ')\n",
        "\n",
        "sns.distplot(data_normal)\n",
        "plt.show()"
      ],
      "metadata": {
        "colab": {
          "base_uri": "https://localhost:8080/",
          "height": 300
        },
        "id": "5H0FY8x5sGXa",
        "outputId": "2c7cf8d5-5aba-47c8-8833-cf5f314704fc"
      },
      "execution_count": null,
      "outputs": [
        {
          "output_type": "stream",
          "name": "stdout",
          "text": [
            "Statistics=0.984, p=0.275\n",
            "The data looks Gaussian (Fail to reject null hypothesis)\n"
          ]
        },
        {
          "output_type": "display_data",
          "data": {
            "text/plain": [
              "<Figure size 432x288 with 1 Axes>"
            ],
            "image/png": "[encoded data removed]"
          },
          "metadata": {
            "needs_background": "light"
          }
        }
      ]
    },
    {
      "cell_type": "markdown",
      "source": [
        "## D'Agostino's K^2 Test\n",
        "* Determine if the data distribution departs from the normal distribution. Calculates summary statistics namely Kurtosis and Skewness.\n",
        "* Kurtosis quantifiles how much of the distribution is in the tail\n",
        "* Skewness quantifiles how much a distribution is push left or right"
      ],
      "metadata": {
        "id": "ot0I3ECEwrGe"
      }
    },
    {
      "cell_type": "code",
      "source": [
        "from scipy.stats import normaltest"
      ],
      "metadata": {
        "id": "u0slI1Qsos0Q"
      },
      "execution_count": null,
      "outputs": []
    },
    {
      "cell_type": "code",
      "source": [
        "data = 3* randn(100) + 20\n",
        "\n",
        "stat, p = normaltest(data)\n",
        "alpha= 0.05\n",
        "\n",
        "print(f'Statistic: {round(stat,3)} | P-value: {round(p,3)}')\n",
        "\n",
        "if p > alpha:\n",
        "  print('Data normaly distributed (Fail to reject H0)')\n",
        "else:\n",
        "  print('Data is not Gaussian (Reject H0)')\n",
        "\n",
        "sns.distplot(data)\n",
        "plt.show()"
      ],
      "metadata": {
        "id": "u5NCfRAH1XfP",
        "colab": {
          "base_uri": "https://localhost:8080/",
          "height": 302
        },
        "outputId": "4ea10eda-7d8e-49d0-bf5e-dc2c0d869abe"
      },
      "execution_count": null,
      "outputs": [
        {
          "output_type": "stream",
          "name": "stdout",
          "text": [
            "Statistic: 5.131 | P-value: 0.077\n",
            "Data normaly distributed (Fail to reject H0)\n"
          ]
        },
        {
          "output_type": "display_data",
          "data": {
            "text/plain": [
              "<Figure size 432x288 with 1 Axes>"
            ],
            "image/png": "[encoded data removed]"
          },
          "metadata": {
            "needs_background": "light"
          }
        }
      ]
    },
    {
      "cell_type": "markdown",
      "source": [
        "## Anderson-Darlin Test\n",
        "* Assumption: Observation on the sample are independent and identically distributed"
      ],
      "metadata": {
        "id": "o0jbZBPSpfFg"
      }
    },
    {
      "cell_type": "code",
      "source": [
        "from scipy.stats import anderson"
      ],
      "metadata": {
        "id": "I-xfsTykqLL7"
      },
      "execution_count": null,
      "outputs": []
    },
    {
      "cell_type": "code",
      "source": [
        "data = 3* randn(100) + 20\n",
        "\n",
        "result = anderson(data)\n",
        "\n",
        "stat = round(result.statistic,3)\n",
        "print(f'Statistic: {stat}')\n",
        "for i in range(len(result.critical_values)):\n",
        "  sl, cv = result.significance_level[i], result.critical_values[i]\n",
        "\n",
        "  if stat < cv:\n",
        "    print(f'Probaly Gaussian at the {round(sl)}% level')\n",
        "  else:\n",
        "    print(f'Probaly not Gaussian ate the {round(sl)}% level')\n",
        "\n",
        "sns.distplot(data)\n",
        "plt.show()"
      ],
      "metadata": {
        "colab": {
          "base_uri": "https://localhost:8080/",
          "height": 369
        },
        "id": "P4AUJ4mOqLSH",
        "outputId": "87144be4-bb79-4d2b-80e3-5b9efdf00ae2"
      },
      "execution_count": null,
      "outputs": [
        {
          "output_type": "stream",
          "name": "stdout",
          "text": [
            "Statistic: 0.308\n",
            "Probaly Gaussian at the 15% level\n",
            "Probaly Gaussian at the 10% level\n",
            "Probaly Gaussian at the 5% level\n",
            "Probaly Gaussian at the 2% level\n",
            "Probaly Gaussian at the 1% level\n"
          ]
        },
        {
          "output_type": "display_data",
          "data": {
            "text/plain": [
              "<Figure size 432x288 with 1 Axes>"
            ],
            "image/png": "[encoded data removed]"
          },
          "metadata": {
            "needs_background": "light"
          }
        }
      ]
    },
    {
      "cell_type": "markdown",
      "source": [
        "# Correlation Tests"
      ],
      "metadata": {
        "id": "Kgsk0WMjqgkv"
      }
    },
    {
      "cell_type": "markdown",
      "source": [
        "## Pearson’s Correlation Coefficient\n",
        "* Test whether two samples have a linear relationship\n",
        "* Assumption: The samples have normal distribution"
      ],
      "metadata": {
        "id": "W1TQcJo2lRws"
      }
    },
    {
      "cell_type": "code",
      "source": [
        "from scipy.stats import pearsonr\n",
        "\n",
        "data1 = 2 * randn(100) + 10\n",
        "data2 = data1/2\n",
        "\n",
        "stat, p = pearsonr(data1, data2)\n",
        "\n",
        "print(f'Stat: {round(stat,2)}, P-value: {round(p,3)}')\n",
        "\n",
        "if p > 0.05:\n",
        "  print('Probably independent')\n",
        "else:\n",
        "  print('Probably dependent')"
      ],
      "metadata": {
        "colab": {
          "base_uri": "https://localhost:8080/"
        },
        "id": "K-_tFfYWly3B",
        "outputId": "0d67e33b-b774-437c-ae7a-9911f9ec230a"
      },
      "execution_count": null,
      "outputs": [
        {
          "output_type": "stream",
          "name": "stdout",
          "text": [
            "Stat: 1.0, P-value: 0.0\n",
            "Probably dependent\n"
          ]
        }
      ]
    },
    {
      "cell_type": "markdown",
      "source": [
        "## Spearman’s Rank Correlation\n",
        "* Tests whether two samples have a monotonic relationship. Quantify the association between variables using the ordinal relationship between the values\n",
        "* Assumptions: The samples doesn't have normal distribution"
      ],
      "metadata": {
        "id": "SEljNtN3m9lJ"
      }
    },
    {
      "cell_type": "code",
      "source": [
        "from scipy.stats import spearmanr\n",
        "\n",
        "data1 = rand(100)\n",
        "data2 = data1/2\n",
        "\n",
        "stat, p = spearmanr(data1, data2)\n",
        "\n",
        "print(f'Stat: {round(stat,2)}, P-value: {round(p,3)}')\n",
        "\n",
        "if p > 0.05:\n",
        "  print('Probably independent')\n",
        "else:\n",
        "  print('Probably dependent')\n"
      ],
      "metadata": {
        "colab": {
          "base_uri": "https://localhost:8080/"
        },
        "id": "o6Je9G9HlTv2",
        "outputId": "404948f7-1181-46a7-891c-fad697072219"
      },
      "execution_count": null,
      "outputs": [
        {
          "output_type": "stream",
          "name": "stdout",
          "text": [
            "Stat: 1.0, P-value: 0.0\n",
            "Probably dependent\n"
          ]
        }
      ]
    },
    {
      "cell_type": "markdown",
      "source": [
        "## Chi-Squared Test\n",
        "* Tests whether two categorical variables are related or independent."
      ],
      "metadata": {
        "id": "2CSis7pBrhZh"
      }
    },
    {
      "cell_type": "code",
      "source": [
        "from scipy.stats import chi2_contingency\n",
        "\n",
        "table = [[10, 20, 30],[6,  9,  17]]\n",
        "\n",
        "stat, p, dof, expeted = chi2_contingency(table)\n",
        "\n",
        "if p > 0.05:\n",
        "  print('Probably independent')\n",
        "else:\n",
        "  print('Probably dependent')"
      ],
      "metadata": {
        "colab": {
          "base_uri": "https://localhost:8080/"
        },
        "id": "JCOOXKi2rolX",
        "outputId": "a2e6fd0d-4e5c-4d00-f20c-2bf072e9c469"
      },
      "execution_count": null,
      "outputs": [
        {
          "output_type": "stream",
          "name": "stdout",
          "text": [
            "Probably independent\n"
          ]
        }
      ]
    },
    {
      "cell_type": "markdown",
      "source": [
        "# Stationary Tests"
      ],
      "metadata": {
        "id": "5otZNSc3qiV1"
      }
    },
    {
      "cell_type": "markdown",
      "source": [
        "## Augmented Dickey-Fuller Unit Root Test\n",
        "* Tests whether a time series has a unit root, e.g. has a trend or more generally is autoregressive."
      ],
      "metadata": {
        "id": "ZrqIM1YGRmk9"
      }
    },
    {
      "cell_type": "code",
      "source": [
        "from statsmodels.tsa.stattools import adfuller\n",
        "\n",
        "serie = [0,1,3,4,5,6,7,8,9]\n",
        "\n",
        "stat, p, lags, obs, crit, t = adfuller(serie)\n",
        "\n",
        "print('stat=%.3f, p=%.3f' % (stat, p))\n",
        "if p> 0.05:\n",
        "  print('Probably not Stationary')\n",
        "else:\n",
        "  print('Probably Stationary')"
      ],
      "metadata": {
        "id": "1kmlD1Sjqj6X",
        "colab": {
          "base_uri": "https://localhost:8080/"
        },
        "outputId": "c7b12c4d-0e32-4a9d-d466-8a6121a01421"
      },
      "execution_count": 5,
      "outputs": [
        {
          "output_type": "stream",
          "name": "stdout",
          "text": [
            "stat=-1.291, p=0.633\n",
            "Probably not Stationary\n"
          ]
        }
      ]
    },
    {
      "cell_type": "markdown",
      "source": [
        "## Kwiatkowski-Phillips-Schmidt-Shin\n",
        "* Tests whether a time series is trend stationary or not."
      ],
      "metadata": {
        "id": "jDk3eVTeSOEA"
      }
    },
    {
      "cell_type": "code",
      "source": [
        "from statsmodels.tsa.stattools import kpss\n",
        "data = [0, 1, 2, 3, 4, 5, 6, 7, 8, 9]\n",
        "stat, p, lags, crit = kpss(data)\n",
        "print('stat=%.3f, p=%.3f' % (stat, p))\n",
        "if p > 0.05:\n",
        "\tprint('Probably Stationary')\n",
        "else:\n",
        "\tprint('Probably not Stationary')"
      ],
      "metadata": {
        "colab": {
          "base_uri": "https://localhost:8080/"
        },
        "id": "GzCeA9MpSZa3",
        "outputId": "bccf91ec-a869-4c85-af1d-a90ea1d5f216"
      },
      "execution_count": 6,
      "outputs": [
        {
          "output_type": "stream",
          "name": "stdout",
          "text": [
            "stat=0.410, p=0.073\n",
            "Probably Stationary\n"
          ]
        },
        {
          "output_type": "stream",
          "name": "stderr",
          "text": [
            "/usr/local/lib/python3.7/dist-packages/statsmodels/tsa/stattools.py:1685: FutureWarning: The behavior of using lags=None will change in the next release. Currently lags=None is the same as lags='legacy', and so a sample-size lag length is used. After the next release, the default will change to be the same as lags='auto' which uses an automatic lag length selection method. To silence this warning, either use 'auto' or 'legacy'\n",
            "  warn(msg, FutureWarning)\n"
          ]
        }
      ]
    },
    {
      "cell_type": "markdown",
      "source": [
        "# Parametric Statistical Hypothesis Tests"
      ],
      "metadata": {
        "id": "DARLwQX-qlOX"
      }
    },
    {
      "cell_type": "markdown",
      "source": [
        "## Student's t-test\n",
        "* Tests whether the means of two samples are signicantly diffente\n",
        "#### Assumptions:\n",
        "* 1) Each sample are independnet and identically distribuited (idd)\n",
        "* 2) Each sample are normally distributed\n",
        "* 3) Each sample have the same variance\n",
        "#### Interpretation:\n",
        "* H0: The means of the sample are equal\n",
        "* H1: The means of the sample are unequal"
      ],
      "metadata": {
        "id": "2LA7DjQLTjJs"
      }
    },
    {
      "cell_type": "code",
      "source": [
        "from scipy.stats import ttest_ind\n",
        "\n",
        "data1 = 3* randn(100) + 10\n",
        "data2 = 5 * randn(100)\n",
        "\n",
        "stat, p = ttest_ind(data1,data2)\n",
        "\n",
        "print(f'Stat:{round(stat,2)}, P-value: {round(p,3)}')\n",
        "\n",
        "if p > 0.05:\n",
        "  print('Probably the same distributuion')\n",
        "else:\n",
        "  print('Probably different distribution')"
      ],
      "metadata": {
        "id": "oLvTBhPLqm9l",
        "colab": {
          "base_uri": "https://localhost:8080/"
        },
        "outputId": "5490e816-b837-4a72-ecc3-48fc119dc2bf"
      },
      "execution_count": 19,
      "outputs": [
        {
          "output_type": "stream",
          "name": "stdout",
          "text": [
            "Stat:16.37, P-value: 0.0\n",
            "Probably different distribution\n"
          ]
        }
      ]
    },
    {
      "cell_type": "markdown",
      "source": [
        "# Paired Student's t-test\n",
        "* Tests whether the means of two paired samples are significantly different.\n",
        "\n",
        "#### Assumptions\n",
        "\n",
        "* Each sample are independent and identically distributed (iid).\n",
        "* Each sample are normally distributed.\n",
        "* Each sample have the same variance.\n",
        "* Observations across each sample are paired.\n",
        "\n",
        "#### Interpretation\n",
        "\n",
        "* H0: the means of the samples are equal.\n",
        "* H1: the means of the samples are unequal."
      ],
      "metadata": {
        "id": "HNx3iSjsV4Mh"
      }
    },
    {
      "cell_type": "code",
      "source": [
        "from scipy.stats import ttest_rel\n",
        "\n",
        "data1 = [0.873, 2.817, 0.121, -0.945, -0.055, -1.436, 0.360, -1.478, -1.637, -1.869]\n",
        "data2 = [1.142, -0.432, -0.938, -0.729, -0.846, -0.157, 0.500, 1.183, -1.075, -0.169]\n",
        "\n",
        "stat, p = ttest_rel(data1, data2)\n",
        "\n",
        "print(f'Stat:{round(stat,2)}, P-value: {round(p,3)}')\n",
        "\n",
        "if p > 0.05:\n",
        "  print('Probably the same distributuion')\n",
        "else:\n",
        "  print('Probably different distribution')"
      ],
      "metadata": {
        "colab": {
          "base_uri": "https://localhost:8080/"
        },
        "id": "sm2p4qMrXcvr",
        "outputId": "ad108bd9-7940-443c-ae2d-bf278ce7a9a0"
      },
      "execution_count": 33,
      "outputs": [
        {
          "output_type": "stream",
          "name": "stdout",
          "text": [
            "Stat:-0.33, P-value: 0.746\n",
            "Probably the same distributuion\n"
          ]
        }
      ]
    },
    {
      "cell_type": "markdown",
      "source": [
        "# Analysis of Variance Test (ANOVA)\n",
        "* Tests whether the means of two or more independent samples are significantly different\n",
        "\n",
        "#### Assumptions:\n",
        "* Each sample are iid\n",
        "* Normal distributed\n",
        "* Each sample have same variance\n",
        "\n",
        "#### Interpretation\n",
        "* H0: the means of the samples are equal\n",
        "* H1: The means of the samples are unequal"
      ],
      "metadata": {
        "id": "KDXEzFhXYZQZ"
      }
    },
    {
      "cell_type": "code",
      "source": [
        "from scipy.stats import f_oneway\n",
        "\n",
        "data1 = 2 * randn(100) + 10\n",
        "data2 = 3* randn(100) + 10\n",
        "data3 = 4 *randn(100) + 10\n",
        "\n",
        "stat, p = f_oneway(data1, data2,data3)\n",
        "\n",
        "print(f'Stat:{round(stat,2)}, P-value: {round(p,3)}')\n",
        "\n",
        "if p > 0.05:\n",
        "  print('Probably the same distributuion')\n",
        "else:\n",
        "  print('Probably different distribution')"
      ],
      "metadata": {
        "colab": {
          "base_uri": "https://localhost:8080/"
        },
        "id": "1W6t_8c0X-Oq",
        "outputId": "1c6966c0-d816-4dd0-a8c8-1c89fbe095e8"
      },
      "execution_count": 34,
      "outputs": [
        {
          "output_type": "stream",
          "name": "stdout",
          "text": [
            "Stat:2.04, P-value: 0.132\n",
            "Probably the same distributuion\n"
          ]
        }
      ]
    },
    {
      "cell_type": "markdown",
      "source": [
        "# Nonparametric Statistical Hypothesis Tests"
      ],
      "metadata": {
        "id": "ydwlMI_9qnVB"
      }
    },
    {
      "cell_type": "markdown",
      "source": [
        "### Mann-Whitney U Test\n",
        "* Tests wheter the distributions of two independet samples are equal or not\n",
        "\n",
        "#### Assumptions\n",
        "* Each sample are iid\n",
        "* Each sample can be ranked\n",
        "\n",
        "#### Interpretation\n",
        "* H0: both samples are equal\n",
        "* H1: both samples are unequal"
      ],
      "metadata": {
        "id": "LYBxFMSxaZjK"
      }
    },
    {
      "cell_type": "code",
      "source": [
        "from scipy.stats import mannwhitneyu\n",
        "\n",
        "data1 = 3* rand(10) + 10\n",
        "data2 = 2* rand(10) + 10\n",
        "\n",
        "stat, p = mannwhitneyu(data1, data2)\n",
        "\n",
        "print(f'Stat:{round(stat,2)}, P-value: {round(p,3)}')\n",
        "\n",
        "if p > 0.05:\n",
        "  print('Probably the same distributuion')\n",
        "else:\n",
        "  print('Probably different distribution')"
      ],
      "metadata": {
        "id": "zMi9dS0Wqpqw",
        "colab": {
          "base_uri": "https://localhost:8080/"
        },
        "outputId": "1456280f-9d36-405d-c162-534bde6cb802"
      },
      "execution_count": 40,
      "outputs": [
        {
          "output_type": "stream",
          "name": "stdout",
          "text": [
            "Stat:47.0, P-value: 0.425\n",
            "Probably the same distributuion\n"
          ]
        }
      ]
    },
    {
      "cell_type": "markdown",
      "source": [
        "# Wilcoxon Signed-Rank Test\n",
        "* Tests wheter the distribution of two paired samples are equal or not\n",
        "\n",
        "#### Assumption\n",
        "* Each sample are iid\n",
        "* Each sample can be ranked\n",
        "* Each sample are paired\n",
        "\n",
        "#### Interpretation\n",
        "* H0: both distribution samples are equal\n",
        "* H1: both distribuition samples are unequal"
      ],
      "metadata": {
        "id": "lmRGbEUucPZa"
      }
    },
    {
      "cell_type": "code",
      "source": [
        "from scipy.stats import wilcoxon\n",
        "\n",
        "data1 = 2 * rand(10) + 10\n",
        "data2 = 3 * rand(10) + 10\n",
        "\n",
        "stat, p = wilcoxon(data1, data2)\n",
        "\n",
        "print(f'Stat:{round(stat,2)}, P-value: {round(p,3)}')\n",
        "if p > 0.05:\n",
        "  print('Probably the same distributuion')\n",
        "else:\n",
        "  print('Probably different distribution')"
      ],
      "metadata": {
        "colab": {
          "base_uri": "https://localhost:8080/"
        },
        "id": "nQ7KzQmzbHlB",
        "outputId": "62dbd4c6-f0cf-4590-e558-5909c5be113a"
      },
      "execution_count": 42,
      "outputs": [
        {
          "output_type": "stream",
          "name": "stdout",
          "text": [
            "Stat:22.0, P-value: 0.575\n",
            "Probably the same distributuion\n"
          ]
        }
      ]
    },
    {
      "cell_type": "markdown",
      "source": [
        "# Kruskal-Wallis H test\n",
        "* Test whether the distributuion of tow or more independet samples are equal or not\n",
        "\n",
        "#### Assumptions\n",
        "* Each sample are iid\n",
        "* Each sample can be ranked\n",
        "\n",
        "#### Interpretation\n",
        "* H0: All distribution samples are equal\n",
        "* H1: The distribution of one or more samples aren't equal"
      ],
      "metadata": {
        "id": "sAJDCOuxdQd9"
      }
    },
    {
      "cell_type": "code",
      "source": [
        "from scipy.stats import kruskal\n",
        "\n",
        "data1 = 3 * rand(10) + 10\n",
        "data2 = 4 * rand(10) + 10\n",
        "\n",
        "stat, p = kruskal(data1, data2)\n",
        "\n",
        "print(f'Stat:{round(stat,2)}, P-value: {round(p,3)}')\n",
        "if p > 0.05:\n",
        "  print('Probably the same distributuion')\n",
        "else:\n",
        "  print('Probably different distribution')"
      ],
      "metadata": {
        "colab": {
          "base_uri": "https://localhost:8080/"
        },
        "id": "JroLmn43dARC",
        "outputId": "b55304a9-e6da-49a7-c364-0b9c12cdee57"
      },
      "execution_count": 43,
      "outputs": [
        {
          "output_type": "stream",
          "name": "stdout",
          "text": [
            "Stat:2.52, P-value: 0.112\n",
            "Probably the same distributuion\n"
          ]
        }
      ]
    },
    {
      "cell_type": "markdown",
      "source": [
        "# Friedman Test\n",
        "* Test whether the distribution of two or more paired samples are equal or not\n",
        "\n",
        "#### Assumptions\n",
        "* Each sample are iid\n",
        "* Each sample can be ranked\n",
        "* Observations across each sample are paired\n",
        "\n",
        "#### Interpretation\n",
        "\n",
        "* H0: the distributions of all samples are equal\n",
        "* H1: the distributions of one or more samples are not equal"
      ],
      "metadata": {
        "id": "ZOWWd0JXeagR"
      }
    },
    {
      "cell_type": "code",
      "source": [
        "from scipy.stats import friedmanchisquare\n",
        "\n",
        "data1 = 3 * rand(10) + 10\n",
        "data2 = 4 * rand(10) + 10\n",
        "data3 = 5 * rand(10) + 10\n",
        "\n",
        "stat, p = friedmanchisquare(data1, data2, data3)\n",
        "\n",
        "print(f'Stat:{round(stat,2)}, P-value: {round(p,3)}')\n",
        "if p > 0.05:\n",
        "  print('Probably the same distributuion')\n",
        "else:\n",
        "  print('Probably different distribution')"
      ],
      "metadata": {
        "colab": {
          "base_uri": "https://localhost:8080/"
        },
        "id": "cn8gWSbGeS1f",
        "outputId": "25f1c76b-55c4-4af5-85b5-9fc8683a0d5d"
      },
      "execution_count": 45,
      "outputs": [
        {
          "output_type": "stream",
          "name": "stdout",
          "text": [
            "Stat:3.2, P-value: 0.202\n",
            "Probably the same distributuion\n"
          ]
        }
      ]
    }
  ]
}