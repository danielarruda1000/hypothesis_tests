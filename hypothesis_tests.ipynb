{
  "nbformat": 4,
  "nbformat_minor": 0,
  "metadata": {
    "colab": {
      "name": "hypothesis_tests.ipynb",
      "provenance": [],
      "authorship_tag": "ABX9TyNySqKnOU8gp92pSVQc1KhW",
      "include_colab_link": true
    },
    "kernelspec": {
      "name": "python3",
      "display_name": "Python 3"
    },
    "language_info": {
      "name": "python"
    }
  },
  "cells": [
    {
      "cell_type": "markdown",
      "metadata": {
        "id": "view-in-github",
        "colab_type": "text"
      },
      "source": [
        "<a href=\"https://colab.research.google.com/github/danielarruda1000/hypothesis_tests/blob/main/hypothesis_tests.ipynb\" target=\"_parent\"><img src=\"https://colab.research.google.com/assets/colab-badge.svg\" alt=\"Open In Colab\"/></a>"
      ]
    },
    {
      "cell_type": "markdown",
      "source": [
        "# Hypothesis test with python exemples!\n",
        "* Source article: https://machinelearningmastery.com/statistical-hypothesis-tests-in-python-cheat-sheet/"
      ],
      "metadata": {
        "id": "sb2jN9_0qrwG"
      }
    },
    {
      "cell_type": "markdown",
      "source": [
        "# Normality Tests"
      ],
      "metadata": {
        "id": "yp9MCCUQqdqE"
      }
    },
    {
      "cell_type": "code",
      "execution_count": null,
      "metadata": {
        "id": "ZpyVQSyRqZ4g"
      },
      "outputs": [],
      "source": [
        ""
      ]
    },
    {
      "cell_type": "markdown",
      "source": [
        "# Correlation Tests"
      ],
      "metadata": {
        "id": "Kgsk0WMjqgkv"
      }
    },
    {
      "cell_type": "code",
      "source": [
        ""
      ],
      "metadata": {
        "id": "ZAcP3BT7qh61"
      },
      "execution_count": null,
      "outputs": []
    },
    {
      "cell_type": "markdown",
      "source": [
        "# Stationary Tests"
      ],
      "metadata": {
        "id": "5otZNSc3qiV1"
      }
    },
    {
      "cell_type": "code",
      "source": [
        ""
      ],
      "metadata": {
        "id": "1kmlD1Sjqj6X"
      },
      "execution_count": null,
      "outputs": []
    },
    {
      "cell_type": "markdown",
      "source": [
        "# Parametric Statistical Hypothesis Tests"
      ],
      "metadata": {
        "id": "DARLwQX-qlOX"
      }
    },
    {
      "cell_type": "code",
      "source": [
        ""
      ],
      "metadata": {
        "id": "oLvTBhPLqm9l"
      },
      "execution_count": null,
      "outputs": []
    },
    {
      "cell_type": "markdown",
      "source": [
        "# Nonparametric Statistical Hypothesis Tests"
      ],
      "metadata": {
        "id": "ydwlMI_9qnVB"
      }
    },
    {
      "cell_type": "code",
      "source": [
        ""
      ],
      "metadata": {
        "id": "zMi9dS0Wqpqw"
      },
      "execution_count": null,
      "outputs": []
    }
  ]
}